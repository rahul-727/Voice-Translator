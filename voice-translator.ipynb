{
 "cells": [
  {
   "cell_type": "code",
   "execution_count": 1,
   "metadata": {},
   "outputs": [],
   "source": [
    "import os\n",
    "import librosa\n",
    "import numpy as np\n",
    "from sklearn.model_selection import train_test_split\n",
    "from sklearn.preprocessing import LabelEncoder\n",
    "from sklearn.svm import SVC\n",
    "import pickle"
   ]
  },
  {
   "cell_type": "code",
   "execution_count": 2,
   "metadata": {},
   "outputs": [],
   "source": [
    "# Function to extract features from audio files\n",
    "def extract_features_from_directory(data_directory):\n",
    "    features = []\n",
    "    labels = []\n",
    "    for label in os.listdir(data_directory):  # Each subfolder represents a class\n",
    "        label_path = os.path.join(data_directory, label)\n",
    "        if os.path.isdir(label_path):  # Ensure it's a folder\n",
    "            for file in os.listdir(label_path):\n",
    "                if file.endswith(\".wav\"):  # Only process .wav files\n",
    "                    file_path = os.path.join(label_path, file)\n",
    "                    try:\n",
    "                        # Load audio file\n",
    "                        y, sr = librosa.load(file_path, duration=2.5, offset=0.5)\n",
    "                        # Extract MFCC features\n",
    "                        mfcc = librosa.feature.mfcc(y=y, sr=sr, n_mfcc=13)\n",
    "                        mfcc_scaled = np.mean(mfcc.T, axis=0)\n",
    "                        features.append(mfcc_scaled)\n",
    "                        labels.append(label)\n",
    "                    except Exception as e:\n",
    "                        print(f\"Error processing {file_path}: {e}\")\n",
    "    return np.array(features), np.array(labels)"
   ]
  },
  {
   "cell_type": "code",
   "execution_count": 3,
   "metadata": {},
   "outputs": [],
   "source": [
    "# Function to train the model\n",
    "def train_model(data_directory):\n",
    "    print(\"Extracting features from training data...\")\n",
    "    features, labels = extract_features_from_directory(data_directory)\n",
    "\n",
    "    if len(set(labels)) < 2:\n",
    "        raise ValueError(\"The number of classes must be at least 2. Add more data!\")\n",
    "\n",
    "    # Encode labels into numerical format\n",
    "    label_encoder = LabelEncoder()\n",
    "    labels_encoded = label_encoder.fit_transform(labels)\n",
    "\n",
    "    # Split data into training and testing sets\n",
    "    X_train, X_test, y_train, y_test = train_test_split(features, labels_encoded, test_size=0.2, random_state=42)\n",
    "\n",
    "    # Train an SVM model\n",
    "    print(\"Training the model...\")\n",
    "    model = SVC(kernel=\"linear\", probability=True)\n",
    "    model.fit(X_train, y_train)\n",
    "\n",
    "    # Print training accuracy\n",
    "    print(\"Model trained with accuracy:\", model.score(X_test, y_test))\n",
    "\n",
    "    # Save the model and label encoder for later use\n",
    "    with open(\"voice_model.pkl\", \"wb\") as model_file:\n",
    "        pickle.dump(model, model_file)\n",
    "    with open(\"label_encoder.pkl\", \"wb\") as encoder_file:\n",
    "        pickle.dump(label_encoder, encoder_file)\n",
    "\n",
    "    print(\"Model and label encoder saved.\")\n"
   ]
  },
  {
   "cell_type": "code",
   "execution_count": 4,
   "metadata": {},
   "outputs": [],
   "source": [
    "# Function to predict using the trained model\n",
    "def predict_voice():\n",
    "    try:\n",
    "        # Load the saved model and label encoder\n",
    "        with open(\"voice_model.pkl\", \"rb\") as model_file:\n",
    "            model = pickle.load(model_file)\n",
    "        with open(\"label_encoder.pkl\", \"rb\") as encoder_file:\n",
    "            label_encoder = pickle.load(encoder_file)\n",
    "\n",
    "        # Record or load a test audio file\n",
    "        file_path = input(\"Enter the path to the audio file for testing: \")\n",
    "        y, sr = librosa.load(file_path, duration=2.5, offset=0.5)\n",
    "        mfcc = librosa.feature.mfcc(y=y, sr=sr, n_mfcc=13)\n",
    "        mfcc_scaled = np.mean(mfcc.T, axis=0)\n",
    "\n",
    "        # Predict the class of the audio\n",
    "        prediction = model.predict([mfcc_scaled])\n",
    "        predicted_label = label_encoder.inverse_transform(prediction)\n",
    "\n",
    "        # Check if the prediction matches one of the known classes\n",
    "        if predicted_label[0] == \"rahul\":\n",
    "            print(\"Welcome Rahul!\")\n",
    "        elif predicted_label[0] == \"margaret\":\n",
    "            print(\"Welcome Margaret!\")\n",
    "        elif predicted_label[0] == \"jens\":\n",
    "            print(\"Welcome Jens!\")\n",
    "        else:\n",
    "            print(\"Voice not recognized as\")\n",
    "    \n",
    "    except Exception as e:\n",
    "        print(f\"Error during prediction: {e}\")"
   ]
  },
  {
   "cell_type": "code",
   "execution_count": 5,
   "metadata": {},
   "outputs": [],
   "source": [
    "# Main program\n",
    "def main():\n",
    "    print(\"Voice Recognition Program\")\n",
    "    print(\"1. Train the model\")\n",
    "    print(\"2. Test the model\")\n",
    "    choice = int(input(\"Enter your choice (1 or 2): \"))\n",
    "\n",
    "    if choice == 1:\n",
    "        data_directory = input(\"Enter the path to the training data directory: \")\n",
    "        train_model(data_directory)\n",
    "    elif choice == 2:\n",
    "        predict_voice()\n",
    "    else:\n",
    "        print(\"Invalid choice. Please enter 1 or 2.\")"
   ]
  },
  {
   "cell_type": "code",
   "execution_count": 7,
   "metadata": {},
   "outputs": [
    {
     "name": "stdout",
     "output_type": "stream",
     "text": [
      "Voice Recognition Program\n",
      "1. Train the model\n",
      "2. Test the model\n",
      "Welcome Rahul!\n"
     ]
    }
   ],
   "source": [
    "if __name__ == \"__main__\":\n",
    "    main()"
   ]
  },
  {
   "cell_type": "code",
   "execution_count": null,
   "metadata": {},
   "outputs": [],
   "source": []
  }
 ],
 "metadata": {
  "kernelspec": {
   "display_name": "Python 3",
   "language": "python",
   "name": "python3"
  },
  "language_info": {
   "codemirror_mode": {
    "name": "ipython",
    "version": 3
   },
   "file_extension": ".py",
   "mimetype": "text/x-python",
   "name": "python",
   "nbconvert_exporter": "python",
   "pygments_lexer": "ipython3",
   "version": "3.12.2"
  }
 },
 "nbformat": 4,
 "nbformat_minor": 2
}
