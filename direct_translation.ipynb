{
 "cells": [
  {
   "cell_type": "code",
   "execution_count": 19,
   "metadata": {},
   "outputs": [],
   "source": [
    "import logging\n",
    "import torch\n",
    "from transformers import AutoModelForSeq2SeqLM, AutoTokenizer, pipeline\n",
    "import speech_recognition as sr\n",
    "import pyttsx3"
   ]
  },
  {
   "cell_type": "code",
   "execution_count": 20,
   "metadata": {},
   "outputs": [],
   "source": [
    "# Setting up logging for better visibility of the process\n",
    "logging.basicConfig(level=logging.INFO)\n",
    "logger = logging.getLogger(__name__)\n",
    "\n",
    "# Initialize the speech recognition model once\n",
    "recognizer = sr.Recognizer()\n",
    "\n",
    "# Initialize the translation pipeline\n",
    "translation_pipeline = pipeline(\"translation\", model=\"Helsinki-NLP/opus-mt-en-fr\")"
   ]
  },
  {
   "cell_type": "code",
   "execution_count": 21,
   "metadata": {},
   "outputs": [],
   "source": [
    "def speech_to_text_from_mic(source_language):\n",
    "    try:\n",
    "        with sr.Microphone() as source:\n",
    "            logger.info(\"Please speak now...\")\n",
    "            recognizer.adjust_for_ambient_noise(source)  # Adjusting for ambient noise\n",
    "            audio = recognizer.listen(source)  # Listen to the user's speech\n",
    "            text = recognizer.recognize_google(audio, language=source_language)\n",
    "            logger.info(f\"Recognized Text: {text}\")\n",
    "            return text\n",
    "    except sr.UnknownValueError:\n",
    "        logger.error(\"Could not understand the audio.\")\n",
    "    except sr.RequestError as e:\n",
    "        logger.error(f\"Could not request results from the speech recognition service; {e}\")\n",
    "    except Exception as e:\n",
    "        logger.error(f\"An unexpected error occurred during speech-to-text conversion: {e}\")\n",
    "    return None"
   ]
  },
  {
   "cell_type": "code",
   "execution_count": 22,
   "metadata": {},
   "outputs": [],
   "source": [
    "def translate_text(text, source_lang_model=\"Helsinki-NLP/opus-mt-en-fr\"):\n",
    "    try:\n",
    "        logger.info(f\"Translating text: {text}\")\n",
    "        translated_text = translation_pipeline(text)[0]['translation_text']\n",
    "        logger.info(f\"Translated Text: {translated_text}\")\n",
    "        return translated_text\n",
    "    except Exception as e:\n",
    "        logger.error(f\"An error occurred during translation: {e}\")\n",
    "    return None"
   ]
  },
  {
   "cell_type": "code",
   "execution_count": 23,
   "metadata": {},
   "outputs": [],
   "source": [
    "\n",
    "def text_to_speech_with_pyttsx3(text):\n",
    "    try:\n",
    "        logger.info(\"Converting text to speech with pyttsx3...\")\n",
    "        engine = pyttsx3.init()\n",
    "        engine.say(text)\n",
    "        engine.runAndWait()\n",
    "    except Exception as e:\n",
    "        logger.error(f\"An error occurred during text-to-speech conversion: {e}\")\n"
   ]
  },
  {
   "cell_type": "code",
   "execution_count": 24,
   "metadata": {},
   "outputs": [],
   "source": [
    "def speech_translation_pipeline_from_mic(source_language):\n",
    "    # Step 1: Convert Speech to Text (from microphone)\n",
    "    recognized_text = speech_to_text_from_mic(source_language)\n",
    "    if not recognized_text:\n",
    "        logger.error(\"No recognized text. Exiting pipeline.\")\n",
    "        return\n",
    "\n",
    "    # Step 2: Translate Text\n",
    "    translated_text = translate_text(recognized_text)\n",
    "    if not translated_text:\n",
    "        logger.error(\"Translation failed. Exiting pipeline.\")\n",
    "        return\n",
    "\n",
    "    # Step 3: Convert Text to Speech\n",
    "    text_to_speech_with_pyttsx3(translated_text)\n"
   ]
  },
  {
   "cell_type": "code",
   "execution_count": 25,
   "metadata": {},
   "outputs": [
    {
     "name": "stderr",
     "output_type": "stream",
     "text": [
      "INFO:__main__:Please speak now...\n",
      "INFO:__main__:Recognized Text: hello\n",
      "INFO:__main__:Translating text: hello\n",
      "INFO:__main__:Translated Text: Bonjour.\n",
      "INFO:__main__:Converting text to speech with pyttsx3...\n",
      "INFO:comtypes.client._code_cache:Imported existing <module 'comtypes.gen' from 'd:\\\\SEM5\\\\tts_env\\\\lib\\\\site-packages\\\\comtypes\\\\gen\\\\__init__.py'>\n",
      "INFO:comtypes.client._code_cache:Using writeable comtypes cache directory: 'd:\\SEM5\\tts_env\\lib\\site-packages\\comtypes\\gen'\n"
     ]
    }
   ],
   "source": [
    "# Input Parameters\n",
    "source_language = \"en-US\"  # Language code of the input audio (e.g., \"en-US\" for English)\n",
    "\n",
    "# Run the pipeline\n",
    "speech_translation_pipeline_from_mic(source_language)\n"
   ]
  },
  {
   "cell_type": "code",
   "execution_count": 18,
   "metadata": {},
   "outputs": [
    {
     "ename": "NameError",
     "evalue": "name 'output_audio' is not defined",
     "output_type": "error",
     "traceback": [
      "\u001b[1;31m---------------------------------------------------------------------------\u001b[0m",
      "\u001b[1;31mNameError\u001b[0m                                 Traceback (most recent call last)",
      "Cell \u001b[1;32mIn[18], line 79\u001b[0m\n\u001b[0;32m     75\u001b[0m source_language \u001b[38;5;241m=\u001b[39m \u001b[38;5;124m\"\u001b[39m\u001b[38;5;124men-US\u001b[39m\u001b[38;5;124m\"\u001b[39m  \u001b[38;5;66;03m# Language code of the input audio (e.g., \"en-US\" for English)\u001b[39;00m\n\u001b[0;32m     76\u001b[0m \u001b[38;5;66;03m# output_audio = \"D:\\\\SEM5\\\\Voice-translator\\\\output_audio.wav\"  # Path to save the translated audio (not used with pyttsx3)\u001b[39;00m\n\u001b[0;32m     77\u001b[0m \n\u001b[0;32m     78\u001b[0m \u001b[38;5;66;03m# Run the pipeline\u001b[39;00m\n\u001b[1;32m---> 79\u001b[0m speech_translation_pipeline(input_audio, source_language, \u001b[43moutput_audio\u001b[49m)\n",
      "\u001b[1;31mNameError\u001b[0m: name 'output_audio' is not defined"
     ]
    }
   ],
   "source": [
    "import logging\n",
    "import soundfile as sf\n",
    "import torch\n",
    "from transformers import AutoModelForSeq2SeqLM, AutoTokenizer, pipeline\n",
    "import speech_recognition as sr\n",
    "import pyttsx3\n",
    "\n",
    "# Setting up logging for better visibility of the process\n",
    "logging.basicConfig(level=logging.INFO)\n",
    "logger = logging.getLogger(__name__)\n",
    "\n",
    "# Initialize the speech recognition model once\n",
    "recognizer = sr.Recognizer()\n",
    "\n",
    "# Initialize the translation pipeline\n",
    "translation_pipeline = pipeline(\"translation\", model=\"Helsinki-NLP/opus-mt-en-fr\")\n",
    "\n",
    "# Function to convert speech to text using Google Speech Recognition\n",
    "def speech_to_text(audio_file, source_language):\n",
    "    try:\n",
    "        with sr.AudioFile(audio_file) as source:\n",
    "            logger.info(f\"Converting speech to text from {audio_file}...\")\n",
    "            audio = recognizer.record(source)\n",
    "            text = recognizer.recognize_google(audio, language=source_language)\n",
    "            logger.info(f\"Recognized Text: {text}\")\n",
    "            return text\n",
    "    except sr.UnknownValueError:\n",
    "        logger.error(\"Could not understand the audio.\")\n",
    "    except sr.RequestError as e:\n",
    "        logger.error(f\"Could not request results from the speech recognition service; {e}\")\n",
    "    except Exception as e:\n",
    "        logger.error(f\"An unexpected error occurred during speech-to-text conversion: {e}\")\n",
    "    return None\n",
    "\n",
    "# Function to translate text\n",
    "def translate_text(text, source_lang_model=\"Helsinki-NLP/opus-mt-en-fr\"):\n",
    "    try:\n",
    "        logger.info(f\"Translating text: {text}\")\n",
    "        translated_text = translation_pipeline(text)[0]['translation_text']\n",
    "        logger.info(f\"Translated Text: {translated_text}\")\n",
    "        return translated_text\n",
    "    except Exception as e:\n",
    "        logger.error(f\"An error occurred during translation: {e}\")\n",
    "    return None\n",
    "\n",
    "# Function to convert text to speech using pyttsx3\n",
    "def text_to_speech_with_pyttsx3(text):\n",
    "    try:\n",
    "        logger.info(\"Converting text to speech with pyttsx3...\")\n",
    "        engine = pyttsx3.init()\n",
    "        engine.say(text)\n",
    "        engine.runAndWait()\n",
    "    except Exception as e:\n",
    "        logger.error(f\"An error occurred during text-to-speech conversion: {e}\")\n",
    "\n",
    "# Main pipeline function\n",
    "def speech_translation_pipeline(input_audio, source_language, output_audio):\n",
    "    # Step 1: Convert Speech to Text\n",
    "    recognized_text = speech_to_text(input_audio, source_language)\n",
    "    if not recognized_text:\n",
    "        logger.error(\"No recognized text. Exiting pipeline.\")\n",
    "        return\n",
    "\n",
    "    # Step 2: Translate Text\n",
    "    translated_text = translate_text(recognized_text)\n",
    "    if not translated_text:\n",
    "        logger.error(\"Translation failed. Exiting pipeline.\")\n",
    "        return\n",
    "\n",
    "    # Step 3: Convert Text to Speech\n",
    "    text_to_speech_with_pyttsx3(translated_text)\n",
    "\n",
    "# Input Parameters\n",
    "input_audio = \"D:\\\\SEM5\\\\Voice-translator\\\\LJ001-0003.wav\"  # Path to input audio file\n",
    "source_language = \"en-US\"  # Language code of the input audio (e.g., \"en-US\" for English)\n",
    "# output_audio = \"D:\\\\SEM5\\\\Voice-translator\\\\output_audio.wav\"  # Path to save the translated audio (not used with pyttsx3)\n",
    "\n",
    "# Run the pipeline\n",
    "speech_translation_pipeline(input_audio, source_language, output_audio)"
   ]
  },
  {
   "cell_type": "code",
   "execution_count": null,
   "metadata": {},
   "outputs": [],
   "source": []
  }
 ],
 "metadata": {
  "kernelspec": {
   "display_name": "tts_env",
   "language": "python",
   "name": "python3"
  },
  "language_info": {
   "codemirror_mode": {
    "name": "ipython",
    "version": 3
   },
   "file_extension": ".py",
   "mimetype": "text/x-python",
   "name": "python",
   "nbconvert_exporter": "python",
   "pygments_lexer": "ipython3",
   "version": "3.10.0"
  }
 },
 "nbformat": 4,
 "nbformat_minor": 2
}
